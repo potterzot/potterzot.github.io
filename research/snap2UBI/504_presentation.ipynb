{
 "cells": [
  {
   "cell_type": "markdown",
   "metadata": {},
   "source": [
    "## Who captures the UBI?\n",
    "\n",
    "__Nicholas Potter__\n",
    "\n",
    "This analysis considers who gains from the implementation of a Universal Basic Income (UBI) in the United States. A UBI in this case is an exogenous positive income shock, the benefits of which may be captured by landlords to the extent that they are able to raise rents on housing, or by renters to the extent that the rental market is competitive.\n",
    "\n",
    "We consider the effect of UBI in the United States. Though state-level estimates would also be useful, the mobility of labor between states is an additional complication.\n"
   ]
  },
  {
   "cell_type": "markdown",
   "metadata": {},
   "source": [
    "### Data\n",
    "\n",
    "A number of estimates of elasticities exist. The USDA ERS publishes food price elasticities for food away from home and food at home categories (Okrent and Alston, 2012). Using a low-income sample, Friedman and Weinberg (1981) estimate the price elasticity of demand for rental housing at −0.22 (-0.36 for couples) and the income elasticity of demand for rental housing at 0.36 (0.47 for couples). Mayo (1981) provides a review of estimates of income and price elasticity of demand for housing. Hanushek and Quigley (1980) find price elasticities of -0.64 in Pittsburgh and -0.45 in Phoenix, but account for a delay in housing adjustment that substantially reduces elasticities in the short term.\n",
    "\n",
    "Estimates of the elasticity of supply of rental housing are available from Erickson and Ross (2015).\n",
    "\n",
    "Expenditures on a number of goods are available through the Bureau of Labor Statistics Consumer Expenditures Survey (CEX). Data on housing expenditures are available from the Housing Allowance Demand Experiment and potentially the Moving to Opportunity (MTO) project. Panel data are available in the form of the PSID."
   ]
  },
  {
   "cell_type": "markdown",
   "metadata": {},
   "source": [
    "### Model\n",
    "\n",
    "#### A model of housing and other goods\n",
    "\n",
    "Consider a model of consumer choice between two goods, rental housing $H$ and a composite good $Z$, with preferences given by Stone-Geary displaced Cobb-Douglas utility:\n",
    "\n",
    "$$\n",
    "U(H, Z) = (H - \\theta_H)^{\\beta} (Z - \\theta_Z)^{1 - \\beta} \\\\\n",
    "\\mbox{ s.t. } \\\\\n",
    "P_H H + P_Z Z = Y.\n",
    "$$\n",
    "\n",
    "Normalizing $P_Z$ to one and maximizing as in Mayo (1981), we have \n",
    "\n",
    "$$\\begin{aligned}\n",
    "P_H (1 - \\beta) (H - \\theta_H) &= \\beta (Z - \\theta_Z) \\\\\n",
    "P_H (1 - \\beta) (H - \\theta_H) &= \\beta (Y - P_H H - \\theta_Z) \\\\\n",
    "P_H (1 - \\beta) H &= \\theta_H P_H (1 - \\beta) +  \\beta (Y - \\theta_Z) - \\beta P_H H  \\\\\n",
    "H &= \\theta_H (1 - \\beta) + \\frac{\\beta}{P_H} (Y - \\theta_Z).\n",
    "\\end{aligned}\n",
    "$$\n",
    "\n",
    "The expenditure on rental housing is then\n",
    "\n",
    "$$\\begin{aligned}\n",
    "R = P_H H &= \\theta_H (1 - \\beta) P_H + \\beta (Y - \\theta_Z).\n",
    "\\end{aligned}$$\n",
    "\n",
    "The elasticities have the benefit of varying in both price and income, since\n",
    "\n",
    "$$\\begin{aligned}\n",
    "\\eta_y &= \\frac{\\partial H}{\\partial y} \\frac{y}{H} = \\frac{\\beta y}{P_H \\theta_H (1 - \\beta) + \\beta (y - \\theta_Z)} \\\\\n",
    "\\eta_{P_H} &= \\frac{\\partial H}{\\partial P_H} \\frac{P_H}{H} = \\frac{-\\beta ( y - \\theta_Z)}{P_H H} = \\eta_y \\frac{y - \\theta_Z}{y}.\n",
    "\\end{aligned}$$\n",
    "\n",
    "An income transfer that affects $Y$ can affect total housing spending $R$ through a combination of $P_H$ and $H$. \n",
    "We are interested in the extent to which a change in $Y$ is reflected in a change in revenue to housing owners, $p_H H_s$. In other words, given $\\frac{dY}{Y}$, what is $\\frac{dP_H H_s}{P_H H_s}$?\n"
   ]
  },
  {
   "cell_type": "markdown",
   "metadata": {},
   "source": [
    "#### A total elasticity approach\n",
    "\n",
    "Another approach follows Buse (1958), in which we can define total elasticities based on inverse demand functions as \n",
    "\n",
    "$$\\begin{aligned}\n",
    "P_H &= S^{-1}(H) & P_H &= D^{-1}(H) + V,\n",
    "\\end{aligned}$$\n",
    "\n",
    "where $V$ is an income transfer representing the UBI. Recognizing that the derivatives of the inverse demand and supply functions are by definition \n",
    "\n",
    "$$\\begin{aligned}\n",
    "S^{-1}_H(H) = \\frac{1}{\\epsilon_S} \\frac{P_H}{H} \\mbox{ and }\n",
    "D^{-1}_H(H) = \\frac{1}{\\epsilon_D} \\frac{P_H}{H},\\\\\n",
    "\\end{aligned}$$\n",
    "\n",
    "we have\n",
    "\n",
    "$$\\begin{aligned}\n",
    "P_H &= S^{-1}(H) & P_H &= D^{-1}(H) + V\\\\\n",
    "dP_H &= S_H^{-1}(H)dH & dP_H &= D_H^{-1}(H)dH + dV\\\\\n",
    "dP_H &= \\frac{1}{\\epsilon_S} \\frac{P_H}{H} dH & dP_H &= \\frac{1}{\\epsilon_D} \\frac{P_H}{H}dH + dV\\\\\n",
    "\\epsilon_S \\frac{H}{P_H}dP_H &= dH & dP_H &= \\frac{1}{\\epsilon_D} \\frac{P_H}{H}dH + dV\\\\\n",
    "& & dP_H &= \\frac{1}{\\epsilon_D} \\frac{P_H}{H} \\epsilon_S \\frac{H}{P_H}dP_H + dV\\\\\n",
    "& & dP_H &= \\frac{\\epsilon_S}{\\epsilon_D} dP_H + dV\\\\\n",
    "& & \\frac{dP_H / P_H}{dV / P_H} &= \\frac{\\epsilon_D}{\\epsilon_D - \\epsilon_S}.\n",
    "\\end{aligned}$$\n",
    "\n",
    "This is the classical result (from where?) that Kirwan (2009) refers to, since if rental housing is inelastic (i.e. $\\epsilon_s = 0$), then the total value of the subsidy is captured by an increase in $P_H$.\n",
    "\n",
    "Given an income transfer in terms of the percentage of current rental prices ($dV / P_H$), the portion captured by a price increase would be $dP_H/P_H$, which can be estimated with a regression of the form\n",
    "\n",
    "$$log P_H = \\beta_0 + \\beta_1 log V,$$\n",
    "\n",
    "where $\\beta_1$ is the coefficient that presents the portion captured by a price increase."
   ]
  },
  {
   "cell_type": "markdown",
   "metadata": {},
   "source": [
    "#### Missing pieces\n",
    "\n",
    "There are a few additional factors that probably should be expanded on. Literature from the 1980s discusses the complications of measuring price and income elasticities of demand for rental housing, since rental housing is in one sense very inelastic (everyone needs a place to live), but in another somewhat elastic (quality, location, and size are not required). In addition, there are significant frictions involved in moving that suggest that rental markets take longer than other markets to move toward a new equilibrium.\n",
    "\n",
    "One factor is the extent to which suppliers of rental housing are able to raise prices, which depends at least in part on the degree of monopolization of the rental housing market, but also on the short-term inelastic nature of rental housing supply (new units must be built)."
   ]
  },
  {
   "cell_type": "markdown",
   "metadata": {},
   "source": [
    "#### Inverse demand\n",
    "\n",
    "Given indirect demand function $H(P_H, Y)$ of the form\n",
    "\n",
    "$$H(P_H, Y) = \\theta_H (1 - \\beta) + \\frac{\\beta}{P_H} (Y - \\theta_Z),$$\n",
    "\n",
    "we can derive the inverse demand as\n",
    "\n",
    "$$P_H(H, Y) = \\beta \\frac{Y - \\theta_Z}{H - \\theta_H (1 - \\beta)}.$$\n",
    "\n",
    "Inverse supply is given by $P_H = S^{-1} (H)$"
   ]
  }
 ],
 "metadata": {
  "kernelspec": {
   "display_name": "Python 3",
   "language": "python",
   "name": "python3"
  },
  "language_info": {
   "codemirror_mode": {
    "name": "ipython",
    "version": 3
   },
   "file_extension": ".py",
   "mimetype": "text/x-python",
   "name": "python",
   "nbconvert_exporter": "python",
   "pygments_lexer": "ipython3",
   "version": "3.7.0"
  }
 },
 "nbformat": 4,
 "nbformat_minor": 2
}
